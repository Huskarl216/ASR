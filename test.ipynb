{
 "cells": [
  {
   "cell_type": "code",
   "execution_count": 154,
   "metadata": {},
   "outputs": [],
   "source": [
    "import pandas as pd\n",
    "import numpy as np\n",
    "from sklearn import mixture\n",
    "from sklearn.metrics import *\n",
    "from sklearn import metrics\n",
    "import pickle"
   ]
  },
  {
   "cell_type": "code",
   "execution_count": 155,
   "metadata": {},
   "outputs": [],
   "source": [
    "feature_address=[\"./test_features/mfcc/timit.hdf\",\"./test_features/mfcc_delta/timit.hdf\",\"./test_features/mfcc_delta_delta/timit.hdf\",]"
   ]
  },
  {
   "cell_type": "code",
   "execution_count": 156,
   "metadata": {},
   "outputs": [],
   "source": [
    "model_address=[\"./models/mfcc/with/064/\",\n",
    "              \"./models/mfcc/without/002/\",\n",
    "              \"./models/mfcc/without/004/\",\n",
    "              \"./models/mfcc/without/008/\",\n",
    "              \"./models/mfcc/without/016/\",\n",
    "              \"./models/mfcc/without/032/\",\n",
    "              \"./models/mfcc/without/064/\",\n",
    "              \"./models/mfcc/without/128/\",\n",
    "              \"./models/mfcc/without/256/\",\n",
    "              \"./models/mfcc_delta/with/064/\",\n",
    "              \"./models/mfcc_delta/without/064/\",\n",
    "              \"./models/mfcc_delta_delta/with/064/\",\n",
    "              \"./models/mfcc_delta_delta/without/064/\",\n",
    "              ]"
   ]
  },
  {
   "cell_type": "code",
   "execution_count": 157,
   "metadata": {},
   "outputs": [],
   "source": [
    "#CHANGE FEATURE ADDRESS\n",
    "df = pd.read_hdf(feature_address[0])\n",
    "test_features = np.array(df[\"features\"].tolist())\n",
    "test_labels = np.array(df[\"labels\"].tolist())\n"
   ]
  },
  {
   "cell_type": "code",
   "execution_count": 158,
   "metadata": {},
   "outputs": [],
   "source": [
    "features_length=np.shape(test_features)[0]"
   ]
  },
  {
   "cell_type": "code",
   "execution_count": 159,
   "metadata": {},
   "outputs": [
    {
     "data": {
      "text/plain": [
       "451660"
      ]
     },
     "execution_count": 159,
     "metadata": {},
     "output_type": "execute_result"
    }
   ],
   "source": [
    "features_length"
   ]
  },
  {
   "cell_type": "code",
   "execution_count": 160,
   "metadata": {},
   "outputs": [],
   "source": [
    "\n",
    "def create_models(list_pickle_path):\n",
    "    gaussian_models={}\n",
    "    for filename in os.listdir(list_pickle_path):\n",
    "        if(filename.endswith(\".pkl\")):\n",
    "            os.path.join(filename,list_pickle_path)\n",
    "            file_path = list_pickle_path+str(filename)\n",
    "            list_unpickle = open(file_path, 'rb')\n",
    "            gmm = pickle.load(list_unpickle)\n",
    "            if(filename[:-4]==\"none\"):\n",
    "                gaussian_models[gmm]=''\n",
    "            else:\n",
    "                gaussian_models[gmm]=filename[:-4]\n",
    "    return gaussian_models\n",
    "            "
   ]
  },
  {
   "cell_type": "code",
   "execution_count": 161,
   "metadata": {},
   "outputs": [],
   "source": [
    "#CHANGE MODEL ADDRESS\n",
    "gaussian_models=create_models(model_address[0])"
   ]
  },
  {
   "cell_type": "code",
   "execution_count": 162,
   "metadata": {},
   "outputs": [],
   "source": [
    "def find2(feature_list,gaussian_models):\n",
    "    M=-10000\n",
    "    Scores=[]\n",
    "    Labels=[]\n",
    "    for model in gaussian_models:\n",
    "        score=model.score_samples(feature_list)\n",
    "        Scores.append(score)\n",
    "        Labels.append(gaussian_models[model])\n",
    "    return Labels,Scores\n"
   ]
  },
  {
   "cell_type": "code",
   "execution_count": 163,
   "metadata": {},
   "outputs": [],
   "source": [
    "Labels,Scores=find2(test_features,gaussian_models)"
   ]
  },
  {
   "cell_type": "code",
   "execution_count": 164,
   "metadata": {},
   "outputs": [
    {
     "data": {
      "text/plain": [
       "[array([-48.07545199, -47.3131402 , -47.08880502, ..., -36.72724597,\n",
       "        -34.81553679, -34.24783497]),\n",
       " array([-49.53800652, -48.30394605, -48.2641104 , ..., -37.0899195 ,\n",
       "        -33.77615467, -35.24051891]),\n",
       " array([-49.97275809, -47.69131049, -48.06173031, ..., -36.93279483,\n",
       "        -36.10414853, -35.84214211]),\n",
       " array([-49.25410249, -48.49170046, -45.49792237, ..., -37.48405798,\n",
       "        -35.27466283, -34.73366899]),\n",
       " array([-49.55720568, -48.49471888, -48.00803439, ..., -36.80470433,\n",
       "        -34.57120969, -34.53196052]),\n",
       " array([-49.05719246, -47.75955273, -47.4305971 , ..., -36.71201626,\n",
       "        -34.87109735, -34.59338103]),\n",
       " array([-49.42799688, -47.97086119, -46.82336839, ..., -37.53553733,\n",
       "        -33.89956405, -35.53990967]),\n",
       " array([-53.64109264, -51.65391994, -48.71070605, ..., -37.84451022,\n",
       "        -35.00705412, -34.73805703]),\n",
       " array([-51.357245  , -48.84397795, -48.0837486 , ..., -41.98271828,\n",
       "        -41.62813873, -41.27506034]),\n",
       " array([-48.84009167, -47.64761928, -46.8191461 , ..., -36.37958792,\n",
       "        -33.62820978, -35.55299784]),\n",
       " array([-49.23098372, -48.21761498, -47.87758615, ..., -37.16372541,\n",
       "        -35.59107655, -35.20486558]),\n",
       " array([-50.41928148, -49.19314152, -48.17512716, ..., -36.87603221,\n",
       "        -35.84339614, -35.35922294]),\n",
       " array([-53.55752571, -51.80942676, -50.29563385, ..., -47.7553659 ,\n",
       "        -47.21296892, -46.76159373]),\n",
       " array([-51.23972306, -49.68709367, -48.69771247, ..., -37.024213  ,\n",
       "        -35.33490523, -34.90653371]),\n",
       " array([-52.09466924, -50.09353414, -48.73880658, ..., -36.2747587 ,\n",
       "        -34.35678953, -35.42009348]),\n",
       " array([-52.04730787, -50.40748242, -50.3776378 , ..., -46.53420987,\n",
       "        -46.13024901, -45.74445786]),\n",
       " array([-51.03587641, -49.26967813, -47.40136944, ..., -37.42914026,\n",
       "        -35.79066975, -35.40734519]),\n",
       " array([-49.3686088 , -48.45701203, -47.8825078 , ..., -36.934987  ,\n",
       "        -35.33577228, -34.92016168]),\n",
       " array([-52.71945391, -51.01139956, -50.72106741, ..., -38.60542218,\n",
       "        -37.71766977, -36.51026923]),\n",
       " array([-50.03628871, -48.2057042 , -47.59712956, ..., -37.03401261,\n",
       "        -33.15542703, -35.08191386]),\n",
       " array([-50.96054259, -49.56705487, -47.5871318 , ..., -37.99738432,\n",
       "        -36.56312738, -36.1799553 ]),\n",
       " array([-48.41705124, -47.34348116, -46.59141567, ..., -40.9216869 ,\n",
       "        -39.59608145, -39.23210577]),\n",
       " array([-53.31033217, -52.22593574, -51.69633769, ..., -47.35740509,\n",
       "        -46.82767275, -46.59444399]),\n",
       " array([-51.18948951, -50.90164598, -48.43110815, ..., -36.13340763,\n",
       "        -34.86231353, -35.04036429]),\n",
       " array([-49.22903247, -47.59633412, -48.39280431, ..., -37.40113776,\n",
       "        -35.43554975, -35.3475011 ]),\n",
       " array([-53.074488  , -51.15992664, -51.02787169, ..., -50.14155094,\n",
       "        -48.75917961, -48.80873117]),\n",
       " array([-48.59916217, -47.51757356, -46.79647831, ..., -36.49296399,\n",
       "        -33.26948503, -35.68342078]),\n",
       " array([-48.81110989, -48.21180559, -48.08369742, ..., -37.50016138,\n",
       "        -35.52095673, -35.91620556]),\n",
       " array([-50.35484088, -48.97009463, -47.79820128, ..., -38.69309566,\n",
       "        -36.79610183, -35.986529  ]),\n",
       " array([-60.66971474, -58.62060593, -58.96059893, ..., -68.7776017 ,\n",
       "        -66.02741304, -64.38622726]),\n",
       " array([-46.98948523, -46.73123434, -43.77299995, ..., -36.23525628,\n",
       "        -32.89482244, -36.02978672]),\n",
       " array([-61.77046635, -59.47935359, -60.49667428, ..., -67.40422924,\n",
       "        -64.85578638, -62.51839533]),\n",
       " array([-51.09761971, -48.84411379, -47.13501612, ..., -38.01561332,\n",
       "        -36.3112028 , -36.22415605]),\n",
       " array([-49.40064361, -48.44491466, -46.90412329, ..., -36.84349933,\n",
       "        -35.28740726, -35.26013011]),\n",
       " array([-52.57942718, -50.95810676, -51.5506381 , ..., -39.04917437,\n",
       "        -38.21537005, -38.19444092]),\n",
       " array([-47.47767724, -46.22651124, -44.8303249 , ..., -37.1769357 ,\n",
       "        -34.91266782, -34.72636736]),\n",
       " array([-49.81829397, -49.11947031, -49.30286766, ..., -37.32851254,\n",
       "        -36.06491105, -35.8245683 ]),\n",
       " array([-48.17435569, -46.96266311, -47.46321024, ..., -37.40263737,\n",
       "        -36.1679707 , -36.27229364]),\n",
       " array([-58.2596687 , -56.23360061, -56.49550855, ..., -62.15469697,\n",
       "        -60.50118518, -59.47399965]),\n",
       " array([-52.54257633, -51.52867199, -50.88803533, ..., -39.83228182,\n",
       "        -39.34272717, -39.17324532])]"
      ]
     },
     "execution_count": 164,
     "metadata": {},
     "output_type": "execute_result"
    }
   ],
   "source": [
    "Scores"
   ]
  },
  {
   "cell_type": "code",
   "execution_count": 165,
   "metadata": {},
   "outputs": [
    {
     "data": {
      "text/plain": [
       "['ey',\n",
       " 'ah',\n",
       " 'ch',\n",
       " 'ng',\n",
       " 'er',\n",
       " 'ih',\n",
       " 'ay',\n",
       " 'aw',\n",
       " '',\n",
       " 's',\n",
       " 't',\n",
       " 'f',\n",
       " 'b',\n",
       " 'aa',\n",
       " 'uh',\n",
       " 'g',\n",
       " 'ow',\n",
       " 'eh',\n",
       " 'r',\n",
       " 'ae',\n",
       " 'l',\n",
       " 'k',\n",
       " 'dh',\n",
       " 'th',\n",
       " 'jh',\n",
       " 'hh',\n",
       " 'z',\n",
       " 'sh',\n",
       " 'm',\n",
       " 'w',\n",
       " 'sil',\n",
       " 'y',\n",
       " 'n',\n",
       " 'uw',\n",
       " 'oy',\n",
       " 'iy',\n",
       " 'v',\n",
       " 'd',\n",
       " 'dx',\n",
       " 'p']"
      ]
     },
     "execution_count": 165,
     "metadata": {},
     "output_type": "execute_result"
    }
   ],
   "source": [
    "Labels"
   ]
  },
  {
   "cell_type": "code",
   "execution_count": 166,
   "metadata": {},
   "outputs": [],
   "source": [
    "def f(features_length,features_scores,labels):\n",
    "    Predictions=[]\n",
    "    for i in range(features_length):\n",
    "        Max=features_scores[0][i]\n",
    "        label=labels[0]\n",
    "        for j in range(len(labels)):\n",
    "            s=features_scores[j][i]\n",
    "            if(s>Max):\n",
    "                Max=s\n",
    "                label=labels[j]\n",
    "        Predictions.append(label)\n",
    "    \n",
    "    return Predictions"
   ]
  },
  {
   "cell_type": "code",
   "execution_count": 167,
   "metadata": {},
   "outputs": [],
   "source": [
    "Prediction_Labels=f(features_length,Scores,Labels)"
   ]
  },
  {
   "cell_type": "code",
   "execution_count": 168,
   "metadata": {},
   "outputs": [
    {
     "data": {
      "text/plain": [
       "0.14368551565336757"
      ]
     },
     "execution_count": 168,
     "metadata": {},
     "output_type": "execute_result"
    }
   ],
   "source": [
    "metrics.accuracy_score(Prediction_Labels,test_labels)"
   ]
  }
 ],
 "metadata": {
  "kernelspec": {
   "display_name": "Python 3",
   "language": "python",
   "name": "python3"
  },
  "language_info": {
   "codemirror_mode": {
    "name": "ipython",
    "version": 3
   },
   "file_extension": ".py",
   "mimetype": "text/x-python",
   "name": "python",
   "nbconvert_exporter": "python",
   "pygments_lexer": "ipython3",
   "version": "3.6.5"
  }
 },
 "nbformat": 4,
 "nbformat_minor": 2
}
