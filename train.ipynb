{
 "cells": [
  {
   "cell_type": "code",
   "execution_count": 34,
   "metadata": {},
   "outputs": [],
   "source": [
    "import pandas as pd\n",
    "import numpy as np\n",
    "from sklearn import mixture\n",
    "from sklearn.metrics import *\n",
    "import pickle"
   ]
  },
  {
   "cell_type": "code",
   "execution_count": 35,
   "metadata": {},
   "outputs": [],
   "source": [
    "df = pd.read_hdf(\"./features/mfcc/timit.hdf\")\n",
    "features = np.array(df[\"features\"].tolist())\n",
    "labels = np.array(df[\"labels\"].tolist())\n"
   ]
  },
  {
   "cell_type": "code",
   "execution_count": 36,
   "metadata": {},
   "outputs": [
    {
     "data": {
      "text/plain": [
       "(1236543, 13)"
      ]
     },
     "execution_count": 36,
     "metadata": {},
     "output_type": "execute_result"
    }
   ],
   "source": [
    "np.shape(features)"
   ]
  },
  {
   "cell_type": "code",
   "execution_count": 37,
   "metadata": {},
   "outputs": [],
   "source": [
    "A=[]\n",
    "for x in features:\n",
    "    A.append(np.delete(x,0))"
   ]
  },
  {
   "cell_type": "code",
   "execution_count": 38,
   "metadata": {},
   "outputs": [],
   "source": [
    "features_no=np.array(A)"
   ]
  },
  {
   "cell_type": "code",
   "execution_count": 39,
   "metadata": {},
   "outputs": [
    {
     "data": {
      "text/plain": [
       "array([[  7.0845646 , -30.82860482,  -8.02369236, ...,  -3.73240458,\n",
       "         -4.86014854,  -4.45780575],\n",
       "       [  7.212337  , -31.0742934 ,  -5.55890326, ...,   5.38242232,\n",
       "          0.17254083,  -1.65742991],\n",
       "       [  7.07146887, -26.28153272,   2.7730846 , ...,  11.68452052,\n",
       "          5.83362448,   2.81757717],\n",
       "       ...,\n",
       "       [  7.90421549, -29.19998853, -11.02742965, ...,   4.3549018 ,\n",
       "         10.35598677,   2.93051937],\n",
       "       [  7.84115609, -28.5695901 ,  -9.03495135, ...,   4.06186714,\n",
       "         16.57991164,   5.77964564],\n",
       "       [  7.34323417, -25.58275779,  -6.77537894, ...,   0.52465956,\n",
       "         16.08805794,   4.0754858 ]])"
      ]
     },
     "execution_count": 39,
     "metadata": {},
     "output_type": "execute_result"
    }
   ],
   "source": [
    "features"
   ]
  },
  {
   "cell_type": "code",
   "execution_count": 40,
   "metadata": {},
   "outputs": [
    {
     "data": {
      "text/plain": [
       "array([[-30.82860482,  -8.02369236, -14.28541275, ...,  -3.73240458,\n",
       "         -4.86014854,  -4.45780575],\n",
       "       [-31.0742934 ,  -5.55890326, -12.00124022, ...,   5.38242232,\n",
       "          0.17254083,  -1.65742991],\n",
       "       [-26.28153272,   2.7730846 ,  -4.20704061, ...,  11.68452052,\n",
       "          5.83362448,   2.81757717],\n",
       "       ...,\n",
       "       [-29.19998853, -11.02742965, -16.17360553, ...,   4.3549018 ,\n",
       "         10.35598677,   2.93051937],\n",
       "       [-28.5695901 ,  -9.03495135, -11.82162799, ...,   4.06186714,\n",
       "         16.57991164,   5.77964564],\n",
       "       [-25.58275779,  -6.77537894, -12.08969116, ...,   0.52465956,\n",
       "         16.08805794,   4.0754858 ]])"
      ]
     },
     "execution_count": 40,
     "metadata": {},
     "output_type": "execute_result"
    }
   ],
   "source": [
    "features_no"
   ]
  },
  {
   "cell_type": "code",
   "execution_count": 41,
   "metadata": {},
   "outputs": [
    {
     "data": {
      "text/plain": [
       "(1236543, 12)"
      ]
     },
     "execution_count": 41,
     "metadata": {},
     "output_type": "execute_result"
    }
   ],
   "source": [
    "np.shape(features_no)"
   ]
  },
  {
   "cell_type": "code",
   "execution_count": 42,
   "metadata": {},
   "outputs": [],
   "source": [
    "df1 = pd.read_hdf(\"./features/mfcc_delta/timit.hdf\")\n",
    "features1 = np.array(df1[\"features\"].tolist())\n",
    "#labels1 = np.array(df1[\"labels\"].tolist())\n"
   ]
  },
  {
   "cell_type": "code",
   "execution_count": 43,
   "metadata": {},
   "outputs": [],
   "source": [
    "A=[]\n",
    "for x in features1:\n",
    "    A.append(np.delete(x,[0,13]))\n",
    "features1_no=np.array(A)"
   ]
  },
  {
   "cell_type": "code",
   "execution_count": 44,
   "metadata": {},
   "outputs": [],
   "source": [
    "df2 = pd.read_hdf(\"./features/mfcc_delta_delta/timit.hdf\")\n",
    "features2 = np.array(df2[\"features\"].tolist())\n",
    "#labels2 = np.array(df2[\"labels\"].tolist())\n"
   ]
  },
  {
   "cell_type": "code",
   "execution_count": 45,
   "metadata": {},
   "outputs": [],
   "source": [
    "A=[]\n",
    "for x in features2:\n",
    "    A.append(np.delete(x,[0,13,26]))\n",
    "features2_no=np.array(A)"
   ]
  },
  {
   "cell_type": "code",
   "execution_count": 46,
   "metadata": {},
   "outputs": [
    {
     "data": {
      "text/plain": [
       "(1236543, 36)"
      ]
     },
     "execution_count": 46,
     "metadata": {},
     "output_type": "execute_result"
    }
   ],
   "source": [
    "np.shape(features2_no)"
   ]
  },
  {
   "cell_type": "code",
   "execution_count": 47,
   "metadata": {},
   "outputs": [],
   "source": [
    "unique_labels=np.unique(labels)\n",
    "total_num_data=len(labels)"
   ]
  },
  {
   "cell_type": "code",
   "execution_count": 73,
   "metadata": {},
   "outputs": [],
   "source": [
    "def create_models(Unique_Labels_List,Feature_List,Labels_List,link,component):\n",
    "    train_data_size=len(Labels_List)\n",
    "    Features_Clusters=[]\n",
    "    for x in Unique_Labels_List:\n",
    "        A=[]\n",
    "        for i in range(train_data_size):\n",
    "            if(x==Labels_List[i]):\n",
    "                A.append(Feature_List[i])\n",
    "        Features_Clusters.append(np.array(A))\n",
    "    \n",
    "#    print (np.shape(Features_Clusters))\n",
    "    \n",
    "    gmm=mixture.GaussianMixture(n_components=int(component),covariance_type='diag')\n",
    "    gmm.fit(Features_Clusters[0])\n",
    "    filename=\"./models/\"+link+component+\"/\"+\"none\"+\".pkl\"\n",
    "    pickle.dump(gmm, open(filename, 'wb'))    \n",
    "    \n",
    "    for i in range(1,40):\n",
    "        gmm=mixture.GaussianMixture(n_components=int(component),covariance_type='diag')\n",
    "        gmm.fit(Features_Clusters[i])\n",
    "        filename=\"./models/\"+link+component+\"/\"+Unique_Labels_List[i]+\".pkl\"\n",
    "        pickle.dump(gmm, open(filename, 'wb'))"
   ]
  },
  {
   "cell_type": "code",
   "execution_count": 77,
   "metadata": {},
   "outputs": [],
   "source": [
    "def CREATEMODELS(Unique_Labels_List,Features_Clusters_Indices,Feature_List,link,component):\n",
    "    Features_Clusters=[]\n",
    "    len_unique_labels=len(Unique_Labels_List)\n",
    "    for n in Features_Clusters_Indices:\n",
    "        A=[]\n",
    "        for i in n:\n",
    "            A.append(Feature_List[i])\n",
    "        Features_Clusters.append(np.array(A))\n",
    "        \n",
    "    print (np.shape(Features_Clusters))\n",
    "    print (np.shape(Features_Clusters[0]))\n",
    "    for i in range(len_unique_labels):\n",
    "        if(Unique_Labels_List[i]!=''):\n",
    "            gmm=mixture.GaussianMixture(n_components=int(component),covariance_type='diag')\n",
    "            gmm.fit(Features_Clusters[i])\n",
    "            filename=\"./models/\"+link+component+\"/\"+Unique_Labels_List[i]+\".pkl\"\n",
    "            pickle.dump(gmm, open(filename, 'wb')) \n",
    "        else:\n",
    "            gmm=mixture.GaussianMixture(n_components=int(component),covariance_type='diag')\n",
    "            gmm.fit(Features_Clusters[i])\n",
    "            filename=\"./models/\"+link+component+\"/\"+\"none\"+\".pkl\"\n",
    "            pickle.dump(gmm, open(filename, 'wb'))    \n",
    "            "
   ]
  },
  {
   "cell_type": "code",
   "execution_count": 78,
   "metadata": {},
   "outputs": [],
   "source": [
    "features_clusters_indices=[]\n",
    "for x in unique_labels:\n",
    "    A=[]\n",
    "    for i in range(total_num_data):\n",
    "        if(x==labels[i]):\n",
    "            A.append(i)\n",
    "    features_clusters_indices.append(np.array(A))"
   ]
  },
  {
   "cell_type": "code",
   "execution_count": null,
   "metadata": {},
   "outputs": [],
   "source": [
    "#works\n",
    "'''\n",
    "create_models(unique_labels,features,labels,\"mfcc/with/\",\"064\")\n",
    "create_models(unique_labels,features1,labels,\"mfcc_delta/with/\",\"064\")\n",
    "create_models(unique_labels,features2,labels,\"mfcc_delta_delta/with/\",\"064\")\n",
    "create_models(unique_labels,features_no,labels,\"mfcc/without/\",\"064\")\n",
    "create_models(unique_labels,features1_no,labels,\"mfcc_delta/without/\",\"064\")\n",
    "create_models(unique_labels,features2_no,labels,\"mfcc_delta_delta/without/\",\"064\")\n",
    "mfcc_without_components=[\"002\",\"004\",\"008\",\"016\",\"032\",\"128\",\"256\"]\n",
    "for component in mfcc_without_components:\n",
    "        create_models(unique_labels,features_no,labels,\"mfcc/without/\",component)\n",
    "'''"
   ]
  },
  {
   "cell_type": "code",
   "execution_count": 79,
   "metadata": {},
   "outputs": [
    {
     "name": "stdout",
     "output_type": "stream",
     "text": [
      "(40,)\n",
      "(31047, 13)\n"
     ]
    }
   ],
   "source": [
    "CREATEMODELS(unique_labels,features_clusters_indices,features,\"mfcc/with/\",\"064\")"
   ]
  },
  {
   "cell_type": "code",
   "execution_count": 80,
   "metadata": {},
   "outputs": [
    {
     "name": "stdout",
     "output_type": "stream",
     "text": [
      "(40,)\n",
      "(31047, 26)\n",
      "(40,)\n",
      "(31047, 39)\n"
     ]
    },
    {
     "name": "stderr",
     "output_type": "stream",
     "text": [
      "/home/battingbaba/anaconda3/lib/python3.6/site-packages/sklearn/mixture/base.py:268: ConvergenceWarning: Initialization 1 did not converge. Try different init parameters, or increase max_iter, tol or check for degenerate data.\n",
      "  % (init + 1), ConvergenceWarning)\n"
     ]
    },
    {
     "name": "stdout",
     "output_type": "stream",
     "text": [
      "(40,)\n",
      "(31047, 12)\n",
      "(40,)\n",
      "(31047, 24)\n",
      "(40,)\n",
      "(31047, 36)\n"
     ]
    }
   ],
   "source": [
    "CREATEMODELS(unique_labels,features_clusters_indices,features1,\"mfcc_delta/with/\",\"064\")\n",
    "CREATEMODELS(unique_labels,features_clusters_indices,features2,\"mfcc_delta_delta/with/\",\"064\")\n",
    "CREATEMODELS(unique_labels,features_clusters_indices,features_no,\"mfcc/without/\",\"064\")\n",
    "CREATEMODELS(unique_labels,features_clusters_indices,features1_no,\"mfcc_delta/without/\",\"064\")\n",
    "CREATEMODELS(unique_labels,features_clusters_indices,features2_no,\"mfcc_delta_delta/without/\",\"064\")\n",
    "\n",
    "mfcc_without_components=[\"002\",\"004\",\"008\",\"016\",\"032\",\"128\",\"256\"]\n",
    "\n"
   ]
  },
  {
   "cell_type": "code",
   "execution_count": 82,
   "metadata": {},
   "outputs": [
    {
     "name": "stdout",
     "output_type": "stream",
     "text": [
      "(40,)\n",
      "(31047, 12)\n",
      "(40,)\n",
      "(31047, 12)\n",
      "(40,)\n",
      "(31047, 12)\n",
      "(40,)\n",
      "(31047, 12)\n",
      "(40,)\n",
      "(31047, 12)\n",
      "(40,)\n",
      "(31047, 12)\n",
      "(40,)\n",
      "(31047, 12)\n"
     ]
    }
   ],
   "source": [
    "for component in mfcc_without_components:\n",
    "    CREATEMODELS(unique_labels,features_clusters_indices,features_no,\"mfcc/without/\",component)\n"
   ]
  }
 ],
 "metadata": {
  "kernelspec": {
   "display_name": "Python 3",
   "language": "python",
   "name": "python3"
  },
  "language_info": {
   "codemirror_mode": {
    "name": "ipython",
    "version": 3
   },
   "file_extension": ".py",
   "mimetype": "text/x-python",
   "name": "python",
   "nbconvert_exporter": "python",
   "pygments_lexer": "ipython3",
   "version": "3.6.5"
  }
 },
 "nbformat": 4,
 "nbformat_minor": 2
}
